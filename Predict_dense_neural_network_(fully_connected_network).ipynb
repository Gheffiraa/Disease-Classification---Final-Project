{
  "cells": [
    {
      "cell_type": "code",
      "execution_count": 4,
      "metadata": {
        "colab": {
          "background_save": true
        },
        "id": "utGgBLdUhuHt"
      },
      "outputs": [],
      "source": [
        "import pandas as pd\n",
        "import numpy as np\n",
        "import tensorflow as tf\n",
        "from sklearn.model_selection import train_test_split\n",
        "from sklearn.preprocessing import StandardScaler\n",
        "from sklearn.preprocessing import LabelEncoder\n",
        "data = pd.read_csv('Data Training Testing.csv')"
      ]
    },
    {
      "cell_type": "code",
      "execution_count": 5,
      "metadata": {
        "colab": {
          "background_save": true
        },
        "id": "FL5GAVuaqaOr"
      },
      "outputs": [],
      "source": [
        "# Random seed for reproducibility\n",
        "seed = 10\n",
        "np.random.seed(seed)"
      ]
    },
    {
      "cell_type": "code",
      "execution_count": 6,
      "metadata": {
        "colab": {
          "background_save": true
        },
        "id": "u1tYz07ximNT"
      },
      "outputs": [
        {
          "name": "stdout",
          "output_type": "stream",
          "text": [
            "<class 'pandas.core.frame.DataFrame'>\n",
            "RangeIndex: 4962 entries, 0 to 4961\n",
            "Columns: 133 entries, itching to prognosis\n",
            "dtypes: int64(132), object(1)\n",
            "memory usage: 5.0+ MB\n"
          ]
        }
      ],
      "source": [
        "data.info()"
      ]
    },
    {
      "cell_type": "code",
      "execution_count": 7,
      "metadata": {
        "colab": {
          "background_save": true
        },
        "id": "3g9kLP7uixTi"
      },
      "outputs": [
        {
          "data": {
            "text/html": [
              "<div>\n",
              "<style scoped>\n",
              "    .dataframe tbody tr th:only-of-type {\n",
              "        vertical-align: middle;\n",
              "    }\n",
              "\n",
              "    .dataframe tbody tr th {\n",
              "        vertical-align: top;\n",
              "    }\n",
              "\n",
              "    .dataframe thead th {\n",
              "        text-align: right;\n",
              "    }\n",
              "</style>\n",
              "<table border=\"1\" class=\"dataframe\">\n",
              "  <thead>\n",
              "    <tr style=\"text-align: right;\">\n",
              "      <th></th>\n",
              "      <th>itching</th>\n",
              "      <th>skin_rash</th>\n",
              "      <th>nodal_skin_eruptions</th>\n",
              "      <th>continuous_sneezing</th>\n",
              "      <th>shivering</th>\n",
              "      <th>chills</th>\n",
              "      <th>joint_pain</th>\n",
              "      <th>stomach_pain</th>\n",
              "      <th>acidity</th>\n",
              "      <th>ulcers_on_tongue</th>\n",
              "      <th>...</th>\n",
              "      <th>blackheads</th>\n",
              "      <th>scurring</th>\n",
              "      <th>skin_peeling</th>\n",
              "      <th>silver_like_dusting</th>\n",
              "      <th>small_dents_in_nails</th>\n",
              "      <th>inflammatory_nails</th>\n",
              "      <th>blister</th>\n",
              "      <th>red_sore_around_nose</th>\n",
              "      <th>yellow_crust_ooze</th>\n",
              "      <th>prognosis</th>\n",
              "    </tr>\n",
              "  </thead>\n",
              "  <tbody>\n",
              "    <tr>\n",
              "      <th>0</th>\n",
              "      <td>1</td>\n",
              "      <td>1</td>\n",
              "      <td>1</td>\n",
              "      <td>0</td>\n",
              "      <td>0</td>\n",
              "      <td>0</td>\n",
              "      <td>0</td>\n",
              "      <td>0</td>\n",
              "      <td>0</td>\n",
              "      <td>0</td>\n",
              "      <td>...</td>\n",
              "      <td>0</td>\n",
              "      <td>0</td>\n",
              "      <td>0</td>\n",
              "      <td>0</td>\n",
              "      <td>0</td>\n",
              "      <td>0</td>\n",
              "      <td>0</td>\n",
              "      <td>0</td>\n",
              "      <td>0</td>\n",
              "      <td>Fungal infection</td>\n",
              "    </tr>\n",
              "    <tr>\n",
              "      <th>1</th>\n",
              "      <td>0</td>\n",
              "      <td>1</td>\n",
              "      <td>1</td>\n",
              "      <td>0</td>\n",
              "      <td>0</td>\n",
              "      <td>0</td>\n",
              "      <td>0</td>\n",
              "      <td>0</td>\n",
              "      <td>0</td>\n",
              "      <td>0</td>\n",
              "      <td>...</td>\n",
              "      <td>0</td>\n",
              "      <td>0</td>\n",
              "      <td>0</td>\n",
              "      <td>0</td>\n",
              "      <td>0</td>\n",
              "      <td>0</td>\n",
              "      <td>0</td>\n",
              "      <td>0</td>\n",
              "      <td>0</td>\n",
              "      <td>Fungal infection</td>\n",
              "    </tr>\n",
              "    <tr>\n",
              "      <th>2</th>\n",
              "      <td>1</td>\n",
              "      <td>0</td>\n",
              "      <td>1</td>\n",
              "      <td>0</td>\n",
              "      <td>0</td>\n",
              "      <td>0</td>\n",
              "      <td>0</td>\n",
              "      <td>0</td>\n",
              "      <td>0</td>\n",
              "      <td>0</td>\n",
              "      <td>...</td>\n",
              "      <td>0</td>\n",
              "      <td>0</td>\n",
              "      <td>0</td>\n",
              "      <td>0</td>\n",
              "      <td>0</td>\n",
              "      <td>0</td>\n",
              "      <td>0</td>\n",
              "      <td>0</td>\n",
              "      <td>0</td>\n",
              "      <td>Fungal infection</td>\n",
              "    </tr>\n",
              "    <tr>\n",
              "      <th>3</th>\n",
              "      <td>1</td>\n",
              "      <td>1</td>\n",
              "      <td>0</td>\n",
              "      <td>0</td>\n",
              "      <td>0</td>\n",
              "      <td>0</td>\n",
              "      <td>0</td>\n",
              "      <td>0</td>\n",
              "      <td>0</td>\n",
              "      <td>0</td>\n",
              "      <td>...</td>\n",
              "      <td>0</td>\n",
              "      <td>0</td>\n",
              "      <td>0</td>\n",
              "      <td>0</td>\n",
              "      <td>0</td>\n",
              "      <td>0</td>\n",
              "      <td>0</td>\n",
              "      <td>0</td>\n",
              "      <td>0</td>\n",
              "      <td>Fungal infection</td>\n",
              "    </tr>\n",
              "    <tr>\n",
              "      <th>4</th>\n",
              "      <td>1</td>\n",
              "      <td>1</td>\n",
              "      <td>1</td>\n",
              "      <td>0</td>\n",
              "      <td>0</td>\n",
              "      <td>0</td>\n",
              "      <td>0</td>\n",
              "      <td>0</td>\n",
              "      <td>0</td>\n",
              "      <td>0</td>\n",
              "      <td>...</td>\n",
              "      <td>0</td>\n",
              "      <td>0</td>\n",
              "      <td>0</td>\n",
              "      <td>0</td>\n",
              "      <td>0</td>\n",
              "      <td>0</td>\n",
              "      <td>0</td>\n",
              "      <td>0</td>\n",
              "      <td>0</td>\n",
              "      <td>Fungal infection</td>\n",
              "    </tr>\n",
              "  </tbody>\n",
              "</table>\n",
              "<p>5 rows × 133 columns</p>\n",
              "</div>"
            ],
            "text/plain": [
              "   itching  skin_rash  nodal_skin_eruptions  continuous_sneezing  shivering  \\\n",
              "0        1          1                     1                    0          0   \n",
              "1        0          1                     1                    0          0   \n",
              "2        1          0                     1                    0          0   \n",
              "3        1          1                     0                    0          0   \n",
              "4        1          1                     1                    0          0   \n",
              "\n",
              "   chills  joint_pain  stomach_pain  acidity  ulcers_on_tongue  ...  \\\n",
              "0       0           0             0        0                 0  ...   \n",
              "1       0           0             0        0                 0  ...   \n",
              "2       0           0             0        0                 0  ...   \n",
              "3       0           0             0        0                 0  ...   \n",
              "4       0           0             0        0                 0  ...   \n",
              "\n",
              "   blackheads  scurring  skin_peeling  silver_like_dusting  \\\n",
              "0           0         0             0                    0   \n",
              "1           0         0             0                    0   \n",
              "2           0         0             0                    0   \n",
              "3           0         0             0                    0   \n",
              "4           0         0             0                    0   \n",
              "\n",
              "   small_dents_in_nails  inflammatory_nails  blister  red_sore_around_nose  \\\n",
              "0                     0                   0        0                     0   \n",
              "1                     0                   0        0                     0   \n",
              "2                     0                   0        0                     0   \n",
              "3                     0                   0        0                     0   \n",
              "4                     0                   0        0                     0   \n",
              "\n",
              "   yellow_crust_ooze         prognosis  \n",
              "0                  0  Fungal infection  \n",
              "1                  0  Fungal infection  \n",
              "2                  0  Fungal infection  \n",
              "3                  0  Fungal infection  \n",
              "4                  0  Fungal infection  \n",
              "\n",
              "[5 rows x 133 columns]"
            ]
          },
          "execution_count": 7,
          "metadata": {},
          "output_type": "execute_result"
        }
      ],
      "source": [
        "data.head()"
      ]
    },
    {
      "cell_type": "code",
      "execution_count": 8,
      "metadata": {
        "colab": {
          "background_save": true
        },
        "id": "6OeefhHYizD8"
      },
      "outputs": [
        {
          "data": {
            "text/plain": [
              "itching                 0\n",
              "skin_rash               0\n",
              "nodal_skin_eruptions    0\n",
              "continuous_sneezing     0\n",
              "shivering               0\n",
              "                       ..\n",
              "inflammatory_nails      0\n",
              "blister                 0\n",
              "red_sore_around_nose    0\n",
              "yellow_crust_ooze       0\n",
              "prognosis               0\n",
              "Length: 133, dtype: int64"
            ]
          },
          "execution_count": 8,
          "metadata": {},
          "output_type": "execute_result"
        }
      ],
      "source": [
        "data.isna().sum()"
      ]
    },
    {
      "cell_type": "code",
      "execution_count": 9,
      "metadata": {
        "colab": {
          "background_save": true
        },
        "id": "9ipS0WlIi2iD"
      },
      "outputs": [
        {
          "data": {
            "text/plain": [
              "(4962, 133)"
            ]
          },
          "execution_count": 9,
          "metadata": {},
          "output_type": "execute_result"
        }
      ],
      "source": [
        "data.shape"
      ]
    },
    {
      "cell_type": "code",
      "execution_count": 10,
      "metadata": {
        "colab": {
          "background_save": true
        },
        "id": "rPQd2zLukIGW"
      },
      "outputs": [
        {
          "data": {
            "text/html": [
              "<div>\n",
              "<style scoped>\n",
              "    .dataframe tbody tr th:only-of-type {\n",
              "        vertical-align: middle;\n",
              "    }\n",
              "\n",
              "    .dataframe tbody tr th {\n",
              "        vertical-align: top;\n",
              "    }\n",
              "\n",
              "    .dataframe thead th {\n",
              "        text-align: right;\n",
              "    }\n",
              "</style>\n",
              "<table border=\"1\" class=\"dataframe\">\n",
              "  <thead>\n",
              "    <tr style=\"text-align: right;\">\n",
              "      <th></th>\n",
              "      <th>itching</th>\n",
              "      <th>skin_rash</th>\n",
              "      <th>nodal_skin_eruptions</th>\n",
              "      <th>continuous_sneezing</th>\n",
              "      <th>shivering</th>\n",
              "      <th>chills</th>\n",
              "      <th>joint_pain</th>\n",
              "      <th>stomach_pain</th>\n",
              "      <th>acidity</th>\n",
              "      <th>ulcers_on_tongue</th>\n",
              "      <th>...</th>\n",
              "      <th>pus_filled_pimples</th>\n",
              "      <th>blackheads</th>\n",
              "      <th>scurring</th>\n",
              "      <th>skin_peeling</th>\n",
              "      <th>silver_like_dusting</th>\n",
              "      <th>small_dents_in_nails</th>\n",
              "      <th>inflammatory_nails</th>\n",
              "      <th>blister</th>\n",
              "      <th>red_sore_around_nose</th>\n",
              "      <th>yellow_crust_ooze</th>\n",
              "    </tr>\n",
              "  </thead>\n",
              "  <tbody>\n",
              "    <tr>\n",
              "      <th>count</th>\n",
              "      <td>4962.000000</td>\n",
              "      <td>4962.000000</td>\n",
              "      <td>4962.000000</td>\n",
              "      <td>4962.000000</td>\n",
              "      <td>4962.000000</td>\n",
              "      <td>4962.000000</td>\n",
              "      <td>4962.000000</td>\n",
              "      <td>4962.000000</td>\n",
              "      <td>4962.000000</td>\n",
              "      <td>4962.000000</td>\n",
              "      <td>...</td>\n",
              "      <td>4962.000000</td>\n",
              "      <td>4962.000000</td>\n",
              "      <td>4962.000000</td>\n",
              "      <td>4962.000000</td>\n",
              "      <td>4962.000000</td>\n",
              "      <td>4962.000000</td>\n",
              "      <td>4962.000000</td>\n",
              "      <td>4962.000000</td>\n",
              "      <td>4962.000000</td>\n",
              "      <td>4962.000000</td>\n",
              "    </tr>\n",
              "    <tr>\n",
              "      <th>mean</th>\n",
              "      <td>0.138049</td>\n",
              "      <td>0.160016</td>\n",
              "      <td>0.021967</td>\n",
              "      <td>0.045143</td>\n",
              "      <td>0.021967</td>\n",
              "      <td>0.162233</td>\n",
              "      <td>0.139057</td>\n",
              "      <td>0.045143</td>\n",
              "      <td>0.045143</td>\n",
              "      <td>0.021967</td>\n",
              "      <td>...</td>\n",
              "      <td>0.021967</td>\n",
              "      <td>0.021967</td>\n",
              "      <td>0.021967</td>\n",
              "      <td>0.023378</td>\n",
              "      <td>0.023176</td>\n",
              "      <td>0.023176</td>\n",
              "      <td>0.023176</td>\n",
              "      <td>0.023176</td>\n",
              "      <td>0.023378</td>\n",
              "      <td>0.023176</td>\n",
              "    </tr>\n",
              "    <tr>\n",
              "      <th>std</th>\n",
              "      <td>0.344986</td>\n",
              "      <td>0.366658</td>\n",
              "      <td>0.146590</td>\n",
              "      <td>0.207639</td>\n",
              "      <td>0.146590</td>\n",
              "      <td>0.368702</td>\n",
              "      <td>0.346041</td>\n",
              "      <td>0.207639</td>\n",
              "      <td>0.207639</td>\n",
              "      <td>0.146590</td>\n",
              "      <td>...</td>\n",
              "      <td>0.146590</td>\n",
              "      <td>0.146590</td>\n",
              "      <td>0.146590</td>\n",
              "      <td>0.151115</td>\n",
              "      <td>0.150478</td>\n",
              "      <td>0.150478</td>\n",
              "      <td>0.150478</td>\n",
              "      <td>0.150478</td>\n",
              "      <td>0.151115</td>\n",
              "      <td>0.150478</td>\n",
              "    </tr>\n",
              "    <tr>\n",
              "      <th>min</th>\n",
              "      <td>0.000000</td>\n",
              "      <td>0.000000</td>\n",
              "      <td>0.000000</td>\n",
              "      <td>0.000000</td>\n",
              "      <td>0.000000</td>\n",
              "      <td>0.000000</td>\n",
              "      <td>0.000000</td>\n",
              "      <td>0.000000</td>\n",
              "      <td>0.000000</td>\n",
              "      <td>0.000000</td>\n",
              "      <td>...</td>\n",
              "      <td>0.000000</td>\n",
              "      <td>0.000000</td>\n",
              "      <td>0.000000</td>\n",
              "      <td>0.000000</td>\n",
              "      <td>0.000000</td>\n",
              "      <td>0.000000</td>\n",
              "      <td>0.000000</td>\n",
              "      <td>0.000000</td>\n",
              "      <td>0.000000</td>\n",
              "      <td>0.000000</td>\n",
              "    </tr>\n",
              "    <tr>\n",
              "      <th>25%</th>\n",
              "      <td>0.000000</td>\n",
              "      <td>0.000000</td>\n",
              "      <td>0.000000</td>\n",
              "      <td>0.000000</td>\n",
              "      <td>0.000000</td>\n",
              "      <td>0.000000</td>\n",
              "      <td>0.000000</td>\n",
              "      <td>0.000000</td>\n",
              "      <td>0.000000</td>\n",
              "      <td>0.000000</td>\n",
              "      <td>...</td>\n",
              "      <td>0.000000</td>\n",
              "      <td>0.000000</td>\n",
              "      <td>0.000000</td>\n",
              "      <td>0.000000</td>\n",
              "      <td>0.000000</td>\n",
              "      <td>0.000000</td>\n",
              "      <td>0.000000</td>\n",
              "      <td>0.000000</td>\n",
              "      <td>0.000000</td>\n",
              "      <td>0.000000</td>\n",
              "    </tr>\n",
              "    <tr>\n",
              "      <th>50%</th>\n",
              "      <td>0.000000</td>\n",
              "      <td>0.000000</td>\n",
              "      <td>0.000000</td>\n",
              "      <td>0.000000</td>\n",
              "      <td>0.000000</td>\n",
              "      <td>0.000000</td>\n",
              "      <td>0.000000</td>\n",
              "      <td>0.000000</td>\n",
              "      <td>0.000000</td>\n",
              "      <td>0.000000</td>\n",
              "      <td>...</td>\n",
              "      <td>0.000000</td>\n",
              "      <td>0.000000</td>\n",
              "      <td>0.000000</td>\n",
              "      <td>0.000000</td>\n",
              "      <td>0.000000</td>\n",
              "      <td>0.000000</td>\n",
              "      <td>0.000000</td>\n",
              "      <td>0.000000</td>\n",
              "      <td>0.000000</td>\n",
              "      <td>0.000000</td>\n",
              "    </tr>\n",
              "    <tr>\n",
              "      <th>75%</th>\n",
              "      <td>0.000000</td>\n",
              "      <td>0.000000</td>\n",
              "      <td>0.000000</td>\n",
              "      <td>0.000000</td>\n",
              "      <td>0.000000</td>\n",
              "      <td>0.000000</td>\n",
              "      <td>0.000000</td>\n",
              "      <td>0.000000</td>\n",
              "      <td>0.000000</td>\n",
              "      <td>0.000000</td>\n",
              "      <td>...</td>\n",
              "      <td>0.000000</td>\n",
              "      <td>0.000000</td>\n",
              "      <td>0.000000</td>\n",
              "      <td>0.000000</td>\n",
              "      <td>0.000000</td>\n",
              "      <td>0.000000</td>\n",
              "      <td>0.000000</td>\n",
              "      <td>0.000000</td>\n",
              "      <td>0.000000</td>\n",
              "      <td>0.000000</td>\n",
              "    </tr>\n",
              "    <tr>\n",
              "      <th>max</th>\n",
              "      <td>1.000000</td>\n",
              "      <td>1.000000</td>\n",
              "      <td>1.000000</td>\n",
              "      <td>1.000000</td>\n",
              "      <td>1.000000</td>\n",
              "      <td>1.000000</td>\n",
              "      <td>1.000000</td>\n",
              "      <td>1.000000</td>\n",
              "      <td>1.000000</td>\n",
              "      <td>1.000000</td>\n",
              "      <td>...</td>\n",
              "      <td>1.000000</td>\n",
              "      <td>1.000000</td>\n",
              "      <td>1.000000</td>\n",
              "      <td>1.000000</td>\n",
              "      <td>1.000000</td>\n",
              "      <td>1.000000</td>\n",
              "      <td>1.000000</td>\n",
              "      <td>1.000000</td>\n",
              "      <td>1.000000</td>\n",
              "      <td>1.000000</td>\n",
              "    </tr>\n",
              "  </tbody>\n",
              "</table>\n",
              "<p>8 rows × 132 columns</p>\n",
              "</div>"
            ],
            "text/plain": [
              "           itching    skin_rash  nodal_skin_eruptions  continuous_sneezing  \\\n",
              "count  4962.000000  4962.000000           4962.000000          4962.000000   \n",
              "mean      0.138049     0.160016              0.021967             0.045143   \n",
              "std       0.344986     0.366658              0.146590             0.207639   \n",
              "min       0.000000     0.000000              0.000000             0.000000   \n",
              "25%       0.000000     0.000000              0.000000             0.000000   \n",
              "50%       0.000000     0.000000              0.000000             0.000000   \n",
              "75%       0.000000     0.000000              0.000000             0.000000   \n",
              "max       1.000000     1.000000              1.000000             1.000000   \n",
              "\n",
              "         shivering       chills   joint_pain  stomach_pain      acidity  \\\n",
              "count  4962.000000  4962.000000  4962.000000   4962.000000  4962.000000   \n",
              "mean      0.021967     0.162233     0.139057      0.045143     0.045143   \n",
              "std       0.146590     0.368702     0.346041      0.207639     0.207639   \n",
              "min       0.000000     0.000000     0.000000      0.000000     0.000000   \n",
              "25%       0.000000     0.000000     0.000000      0.000000     0.000000   \n",
              "50%       0.000000     0.000000     0.000000      0.000000     0.000000   \n",
              "75%       0.000000     0.000000     0.000000      0.000000     0.000000   \n",
              "max       1.000000     1.000000     1.000000      1.000000     1.000000   \n",
              "\n",
              "       ulcers_on_tongue  ...  pus_filled_pimples   blackheads     scurring  \\\n",
              "count       4962.000000  ...         4962.000000  4962.000000  4962.000000   \n",
              "mean           0.021967  ...            0.021967     0.021967     0.021967   \n",
              "std            0.146590  ...            0.146590     0.146590     0.146590   \n",
              "min            0.000000  ...            0.000000     0.000000     0.000000   \n",
              "25%            0.000000  ...            0.000000     0.000000     0.000000   \n",
              "50%            0.000000  ...            0.000000     0.000000     0.000000   \n",
              "75%            0.000000  ...            0.000000     0.000000     0.000000   \n",
              "max            1.000000  ...            1.000000     1.000000     1.000000   \n",
              "\n",
              "       skin_peeling  silver_like_dusting  small_dents_in_nails  \\\n",
              "count   4962.000000          4962.000000           4962.000000   \n",
              "mean       0.023378             0.023176              0.023176   \n",
              "std        0.151115             0.150478              0.150478   \n",
              "min        0.000000             0.000000              0.000000   \n",
              "25%        0.000000             0.000000              0.000000   \n",
              "50%        0.000000             0.000000              0.000000   \n",
              "75%        0.000000             0.000000              0.000000   \n",
              "max        1.000000             1.000000              1.000000   \n",
              "\n",
              "       inflammatory_nails      blister  red_sore_around_nose  \\\n",
              "count         4962.000000  4962.000000           4962.000000   \n",
              "mean             0.023176     0.023176              0.023378   \n",
              "std              0.150478     0.150478              0.151115   \n",
              "min              0.000000     0.000000              0.000000   \n",
              "25%              0.000000     0.000000              0.000000   \n",
              "50%              0.000000     0.000000              0.000000   \n",
              "75%              0.000000     0.000000              0.000000   \n",
              "max              1.000000     1.000000              1.000000   \n",
              "\n",
              "       yellow_crust_ooze  \n",
              "count        4962.000000  \n",
              "mean            0.023176  \n",
              "std             0.150478  \n",
              "min             0.000000  \n",
              "25%             0.000000  \n",
              "50%             0.000000  \n",
              "75%             0.000000  \n",
              "max             1.000000  \n",
              "\n",
              "[8 rows x 132 columns]"
            ]
          },
          "execution_count": 10,
          "metadata": {},
          "output_type": "execute_result"
        }
      ],
      "source": [
        "data.describe()"
      ]
    },
    {
      "cell_type": "markdown",
      "metadata": {
        "id": "ExMDmje4lFvd"
      },
      "source": [
        "##Train and Test Data"
      ]
    },
    {
      "cell_type": "code",
      "execution_count": 11,
      "metadata": {
        "colab": {
          "background_save": true
        },
        "id": "T2TnLXBDbfGl"
      },
      "outputs": [],
      "source": [
        "X = data.copy()\n",
        "y = X.pop('prognosis')"
      ]
    },
    {
      "cell_type": "code",
      "execution_count": 12,
      "metadata": {
        "colab": {
          "background_save": true
        },
        "id": "_EGxEd-Tbx2D"
      },
      "outputs": [
        {
          "data": {
            "text/html": [
              "<div>\n",
              "<style scoped>\n",
              "    .dataframe tbody tr th:only-of-type {\n",
              "        vertical-align: middle;\n",
              "    }\n",
              "\n",
              "    .dataframe tbody tr th {\n",
              "        vertical-align: top;\n",
              "    }\n",
              "\n",
              "    .dataframe thead th {\n",
              "        text-align: right;\n",
              "    }\n",
              "</style>\n",
              "<table border=\"1\" class=\"dataframe\">\n",
              "  <thead>\n",
              "    <tr style=\"text-align: right;\">\n",
              "      <th></th>\n",
              "      <th>itching</th>\n",
              "      <th>skin_rash</th>\n",
              "      <th>nodal_skin_eruptions</th>\n",
              "      <th>continuous_sneezing</th>\n",
              "      <th>shivering</th>\n",
              "      <th>chills</th>\n",
              "      <th>joint_pain</th>\n",
              "      <th>stomach_pain</th>\n",
              "      <th>acidity</th>\n",
              "      <th>ulcers_on_tongue</th>\n",
              "      <th>...</th>\n",
              "      <th>pus_filled_pimples</th>\n",
              "      <th>blackheads</th>\n",
              "      <th>scurring</th>\n",
              "      <th>skin_peeling</th>\n",
              "      <th>silver_like_dusting</th>\n",
              "      <th>small_dents_in_nails</th>\n",
              "      <th>inflammatory_nails</th>\n",
              "      <th>blister</th>\n",
              "      <th>red_sore_around_nose</th>\n",
              "      <th>yellow_crust_ooze</th>\n",
              "    </tr>\n",
              "  </thead>\n",
              "  <tbody>\n",
              "    <tr>\n",
              "      <th>0</th>\n",
              "      <td>1</td>\n",
              "      <td>1</td>\n",
              "      <td>1</td>\n",
              "      <td>0</td>\n",
              "      <td>0</td>\n",
              "      <td>0</td>\n",
              "      <td>0</td>\n",
              "      <td>0</td>\n",
              "      <td>0</td>\n",
              "      <td>0</td>\n",
              "      <td>...</td>\n",
              "      <td>0</td>\n",
              "      <td>0</td>\n",
              "      <td>0</td>\n",
              "      <td>0</td>\n",
              "      <td>0</td>\n",
              "      <td>0</td>\n",
              "      <td>0</td>\n",
              "      <td>0</td>\n",
              "      <td>0</td>\n",
              "      <td>0</td>\n",
              "    </tr>\n",
              "    <tr>\n",
              "      <th>1</th>\n",
              "      <td>0</td>\n",
              "      <td>1</td>\n",
              "      <td>1</td>\n",
              "      <td>0</td>\n",
              "      <td>0</td>\n",
              "      <td>0</td>\n",
              "      <td>0</td>\n",
              "      <td>0</td>\n",
              "      <td>0</td>\n",
              "      <td>0</td>\n",
              "      <td>...</td>\n",
              "      <td>0</td>\n",
              "      <td>0</td>\n",
              "      <td>0</td>\n",
              "      <td>0</td>\n",
              "      <td>0</td>\n",
              "      <td>0</td>\n",
              "      <td>0</td>\n",
              "      <td>0</td>\n",
              "      <td>0</td>\n",
              "      <td>0</td>\n",
              "    </tr>\n",
              "    <tr>\n",
              "      <th>2</th>\n",
              "      <td>1</td>\n",
              "      <td>0</td>\n",
              "      <td>1</td>\n",
              "      <td>0</td>\n",
              "      <td>0</td>\n",
              "      <td>0</td>\n",
              "      <td>0</td>\n",
              "      <td>0</td>\n",
              "      <td>0</td>\n",
              "      <td>0</td>\n",
              "      <td>...</td>\n",
              "      <td>0</td>\n",
              "      <td>0</td>\n",
              "      <td>0</td>\n",
              "      <td>0</td>\n",
              "      <td>0</td>\n",
              "      <td>0</td>\n",
              "      <td>0</td>\n",
              "      <td>0</td>\n",
              "      <td>0</td>\n",
              "      <td>0</td>\n",
              "    </tr>\n",
              "    <tr>\n",
              "      <th>3</th>\n",
              "      <td>1</td>\n",
              "      <td>1</td>\n",
              "      <td>0</td>\n",
              "      <td>0</td>\n",
              "      <td>0</td>\n",
              "      <td>0</td>\n",
              "      <td>0</td>\n",
              "      <td>0</td>\n",
              "      <td>0</td>\n",
              "      <td>0</td>\n",
              "      <td>...</td>\n",
              "      <td>0</td>\n",
              "      <td>0</td>\n",
              "      <td>0</td>\n",
              "      <td>0</td>\n",
              "      <td>0</td>\n",
              "      <td>0</td>\n",
              "      <td>0</td>\n",
              "      <td>0</td>\n",
              "      <td>0</td>\n",
              "      <td>0</td>\n",
              "    </tr>\n",
              "    <tr>\n",
              "      <th>4</th>\n",
              "      <td>1</td>\n",
              "      <td>1</td>\n",
              "      <td>1</td>\n",
              "      <td>0</td>\n",
              "      <td>0</td>\n",
              "      <td>0</td>\n",
              "      <td>0</td>\n",
              "      <td>0</td>\n",
              "      <td>0</td>\n",
              "      <td>0</td>\n",
              "      <td>...</td>\n",
              "      <td>0</td>\n",
              "      <td>0</td>\n",
              "      <td>0</td>\n",
              "      <td>0</td>\n",
              "      <td>0</td>\n",
              "      <td>0</td>\n",
              "      <td>0</td>\n",
              "      <td>0</td>\n",
              "      <td>0</td>\n",
              "      <td>0</td>\n",
              "    </tr>\n",
              "  </tbody>\n",
              "</table>\n",
              "<p>5 rows × 132 columns</p>\n",
              "</div>"
            ],
            "text/plain": [
              "   itching  skin_rash  nodal_skin_eruptions  continuous_sneezing  shivering  \\\n",
              "0        1          1                     1                    0          0   \n",
              "1        0          1                     1                    0          0   \n",
              "2        1          0                     1                    0          0   \n",
              "3        1          1                     0                    0          0   \n",
              "4        1          1                     1                    0          0   \n",
              "\n",
              "   chills  joint_pain  stomach_pain  acidity  ulcers_on_tongue  ...  \\\n",
              "0       0           0             0        0                 0  ...   \n",
              "1       0           0             0        0                 0  ...   \n",
              "2       0           0             0        0                 0  ...   \n",
              "3       0           0             0        0                 0  ...   \n",
              "4       0           0             0        0                 0  ...   \n",
              "\n",
              "   pus_filled_pimples  blackheads  scurring  skin_peeling  \\\n",
              "0                   0           0         0             0   \n",
              "1                   0           0         0             0   \n",
              "2                   0           0         0             0   \n",
              "3                   0           0         0             0   \n",
              "4                   0           0         0             0   \n",
              "\n",
              "   silver_like_dusting  small_dents_in_nails  inflammatory_nails  blister  \\\n",
              "0                    0                     0                   0        0   \n",
              "1                    0                     0                   0        0   \n",
              "2                    0                     0                   0        0   \n",
              "3                    0                     0                   0        0   \n",
              "4                    0                     0                   0        0   \n",
              "\n",
              "   red_sore_around_nose  yellow_crust_ooze  \n",
              "0                     0                  0  \n",
              "1                     0                  0  \n",
              "2                     0                  0  \n",
              "3                     0                  0  \n",
              "4                     0                  0  \n",
              "\n",
              "[5 rows x 132 columns]"
            ]
          },
          "execution_count": 12,
          "metadata": {},
          "output_type": "execute_result"
        }
      ],
      "source": [
        "X.head()"
      ]
    },
    {
      "cell_type": "code",
      "execution_count": 13,
      "metadata": {
        "colab": {
          "background_save": true
        },
        "id": "_yJNqMCVb0oc"
      },
      "outputs": [
        {
          "data": {
            "text/plain": [
              "0    Fungal infection\n",
              "1    Fungal infection\n",
              "2    Fungal infection\n",
              "3    Fungal infection\n",
              "4    Fungal infection\n",
              "Name: prognosis, dtype: object"
            ]
          },
          "execution_count": 13,
          "metadata": {},
          "output_type": "execute_result"
        }
      ],
      "source": [
        "y.head()"
      ]
    },
    {
      "cell_type": "code",
      "execution_count": 14,
      "metadata": {
        "colab": {
          "background_save": true
        },
        "id": "wS2lw_-ib_jH"
      },
      "outputs": [],
      "source": [
        "X_train, X_valid, y_train, y_valid = train_test_split(X, y, train_size=0.75, shuffle = False)\n",
        "\n",
        "#input_shape = [X_train.shape[1]]"
      ]
    },
    {
      "cell_type": "code",
      "execution_count": 15,
      "metadata": {
        "colab": {
          "background_save": true
        },
        "id": "2wgjtyB0cyyg"
      },
      "outputs": [
        {
          "data": {
            "text/plain": [
              "(3721, 132)"
            ]
          },
          "execution_count": 15,
          "metadata": {},
          "output_type": "execute_result"
        }
      ],
      "source": [
        "X_train.shape"
      ]
    },
    {
      "cell_type": "code",
      "execution_count": 16,
      "metadata": {
        "colab": {
          "background_save": true
        },
        "id": "E-EVB4Oqc7eZ"
      },
      "outputs": [
        {
          "data": {
            "text/plain": [
              "0                   Fungal infection\n",
              "1                   Fungal infection\n",
              "2                   Fungal infection\n",
              "3                   Fungal infection\n",
              "4                   Fungal infection\n",
              "                    ...             \n",
              "3716                     Common Cold\n",
              "3717                       Pneumonia\n",
              "3718    Dimorphic hemmorhoids(piles)\n",
              "3719                    Heart attack\n",
              "3720                  Varicose veins\n",
              "Name: prognosis, Length: 3721, dtype: object"
            ]
          },
          "execution_count": 16,
          "metadata": {},
          "output_type": "execute_result"
        }
      ],
      "source": [
        "y_train"
      ]
    },
    {
      "cell_type": "code",
      "execution_count": 17,
      "metadata": {
        "colab": {
          "background_save": true
        },
        "id": "i8469s_DdJxc"
      },
      "outputs": [
        {
          "data": {
            "text/plain": [
              "(1241, 132)"
            ]
          },
          "execution_count": 17,
          "metadata": {},
          "output_type": "execute_result"
        }
      ],
      "source": [
        "X_valid.shape"
      ]
    },
    {
      "cell_type": "code",
      "execution_count": 18,
      "metadata": {
        "colab": {
          "background_save": true
        },
        "id": "f6yp098jdMxR"
      },
      "outputs": [
        {
          "data": {
            "text/plain": [
              "(1241,)"
            ]
          },
          "execution_count": 18,
          "metadata": {},
          "output_type": "execute_result"
        }
      ],
      "source": [
        "y_valid.shape"
      ]
    },
    {
      "cell_type": "code",
      "execution_count": 19,
      "metadata": {
        "colab": {
          "background_save": true
        },
        "id": "faV6FmfFu-vb"
      },
      "outputs": [],
      "source": [
        "label_encoder = LabelEncoder()\n",
        "y_train_label = label_encoder.fit_transform(y_train)\n",
        "y_valid_label = label_encoder.transform(y_valid)"
      ]
    },
    {
      "cell_type": "code",
      "execution_count": 20,
      "metadata": {
        "colab": {
          "background_save": true
        },
        "id": "-vR5y57NvBll"
      },
      "outputs": [],
      "source": [
        "y_train_cat = tf.keras.utils.to_categorical(y_train_label, num_classes=42)\n",
        "y_valid_cat = tf.keras.utils.to_categorical(y_valid_label, num_classes=42)"
      ]
    },
    {
      "cell_type": "markdown",
      "metadata": {
        "id": "t4oBiuERk4bJ"
      },
      "source": [
        "#Define Model"
      ]
    },
    {
      "cell_type": "code",
      "execution_count": 21,
      "metadata": {
        "colab": {
          "background_save": true
        },
        "id": "RD_swT6mvWUD"
      },
      "outputs": [],
      "source": [
        "# the new model we made\n",
        "def baseline_model():\n",
        "  model = tf.keras.Sequential([\n",
        "      tf.keras.layers.Dense(128, activation='relu', input_shape=(X_train.shape[1],)),\n",
        "      tf.keras.layers.Dense(64, activation='relu'),\n",
        "      tf.keras.layers.Dropout(0.2),\n",
        "      tf.keras.layers.Dense(42, activation='softmax')\n",
        "      ])\n",
        "\n",
        "  model.compile(optimizer='adam', loss='categorical_crossentropy', metrics=['accuracy'])\n",
        "\n",
        "  history = model.fit(\n",
        "    X_train, y_train_cat,\n",
        "    validation_data=(X_valid, y_valid_cat),\n",
        "    batch_size=32,\n",
        "    epochs=100\n",
        ")\n",
        "\n",
        "  return model"
      ]
    },
    {
      "cell_type": "code",
      "execution_count": 22,
      "metadata": {
        "colab": {
          "background_save": true
        },
        "id": "JCjw0jEWv0mC"
      },
      "outputs": [
        {
          "name": "stderr",
          "output_type": "stream",
          "text": [
            "c:\\Users\\ASUS\\anaconda3\\lib\\site-packages\\keras\\src\\layers\\core\\dense.py:87: UserWarning: Do not pass an `input_shape`/`input_dim` argument to a layer. When using Sequential models, prefer using an `Input(shape)` object as the first layer in the model instead.\n",
            "  super().__init__(activity_regularizer=activity_regularizer, **kwargs)\n"
          ]
        },
        {
          "name": "stdout",
          "output_type": "stream",
          "text": [
            "Epoch 1/100\n",
            "\u001b[1m117/117\u001b[0m \u001b[32m━━━━━━━━━━━━━━━━━━━━\u001b[0m\u001b[37m\u001b[0m \u001b[1m8s\u001b[0m 20ms/step - accuracy: 0.3747 - loss: 3.1346 - val_accuracy: 1.0000 - val_loss: 0.3575\n",
            "Epoch 2/100\n",
            "\u001b[1m117/117\u001b[0m \u001b[32m━━━━━━━━━━━━━━━━━━━━\u001b[0m\u001b[37m\u001b[0m \u001b[1m2s\u001b[0m 12ms/step - accuracy: 0.9919 - loss: 0.3233 - val_accuracy: 1.0000 - val_loss: 0.0130\n",
            "Epoch 3/100\n",
            "\u001b[1m117/117\u001b[0m \u001b[32m━━━━━━━━━━━━━━━━━━━━\u001b[0m\u001b[37m\u001b[0m \u001b[1m2s\u001b[0m 7ms/step - accuracy: 0.9996 - loss: 0.0455 - val_accuracy: 1.0000 - val_loss: 0.0034\n",
            "Epoch 4/100\n",
            "\u001b[1m117/117\u001b[0m \u001b[32m━━━━━━━━━━━━━━━━━━━━\u001b[0m\u001b[37m\u001b[0m \u001b[1m1s\u001b[0m 8ms/step - accuracy: 0.9998 - loss: 0.0199 - val_accuracy: 1.0000 - val_loss: 0.0018\n",
            "Epoch 5/100\n",
            "\u001b[1m117/117\u001b[0m \u001b[32m━━━━━━━━━━━━━━━━━━━━\u001b[0m\u001b[37m\u001b[0m \u001b[1m1s\u001b[0m 6ms/step - accuracy: 1.0000 - loss: 0.0128 - val_accuracy: 1.0000 - val_loss: 9.1111e-04\n",
            "Epoch 6/100\n",
            "\u001b[1m117/117\u001b[0m \u001b[32m━━━━━━━━━━━━━━━━━━━━\u001b[0m\u001b[37m\u001b[0m \u001b[1m1s\u001b[0m 5ms/step - accuracy: 0.9998 - loss: 0.0091 - val_accuracy: 1.0000 - val_loss: 5.7582e-04\n",
            "Epoch 7/100\n",
            "\u001b[1m117/117\u001b[0m \u001b[32m━━━━━━━━━━━━━━━━━━━━\u001b[0m\u001b[37m\u001b[0m \u001b[1m2s\u001b[0m 8ms/step - accuracy: 1.0000 - loss: 0.0057 - val_accuracy: 1.0000 - val_loss: 4.2954e-04\n",
            "Epoch 8/100\n",
            "\u001b[1m117/117\u001b[0m \u001b[32m━━━━━━━━━━━━━━━━━━━━\u001b[0m\u001b[37m\u001b[0m \u001b[1m1s\u001b[0m 8ms/step - accuracy: 1.0000 - loss: 0.0046 - val_accuracy: 1.0000 - val_loss: 3.9898e-04\n",
            "Epoch 9/100\n",
            "\u001b[1m117/117\u001b[0m \u001b[32m━━━━━━━━━━━━━━━━━━━━\u001b[0m\u001b[37m\u001b[0m \u001b[1m1s\u001b[0m 10ms/step - accuracy: 0.9997 - loss: 0.0033 - val_accuracy: 1.0000 - val_loss: 3.1745e-04\n",
            "Epoch 10/100\n",
            "\u001b[1m117/117\u001b[0m \u001b[32m━━━━━━━━━━━━━━━━━━━━\u001b[0m\u001b[37m\u001b[0m \u001b[1m1s\u001b[0m 9ms/step - accuracy: 1.0000 - loss: 0.0029 - val_accuracy: 1.0000 - val_loss: 3.0847e-04\n",
            "Epoch 11/100\n",
            "\u001b[1m117/117\u001b[0m \u001b[32m━━━━━━━━━━━━━━━━━━━━\u001b[0m\u001b[37m\u001b[0m \u001b[1m1s\u001b[0m 8ms/step - accuracy: 1.0000 - loss: 0.0022 - val_accuracy: 1.0000 - val_loss: 2.8344e-04\n",
            "Epoch 12/100\n",
            "\u001b[1m117/117\u001b[0m \u001b[32m━━━━━━━━━━━━━━━━━━━━\u001b[0m\u001b[37m\u001b[0m \u001b[1m1s\u001b[0m 7ms/step - accuracy: 1.0000 - loss: 0.0022 - val_accuracy: 1.0000 - val_loss: 2.9563e-04\n",
            "Epoch 13/100\n",
            "\u001b[1m117/117\u001b[0m \u001b[32m━━━━━━━━━━━━━━━━━━━━\u001b[0m\u001b[37m\u001b[0m \u001b[1m2s\u001b[0m 14ms/step - accuracy: 0.9999 - loss: 0.0026 - val_accuracy: 1.0000 - val_loss: 2.8199e-04\n",
            "Epoch 14/100\n",
            "\u001b[1m117/117\u001b[0m \u001b[32m━━━━━━━━━━━━━━━━━━━━\u001b[0m\u001b[37m\u001b[0m \u001b[1m3s\u001b[0m 12ms/step - accuracy: 1.0000 - loss: 0.0014 - val_accuracy: 1.0000 - val_loss: 2.8609e-04\n",
            "Epoch 15/100\n",
            "\u001b[1m117/117\u001b[0m \u001b[32m━━━━━━━━━━━━━━━━━━━━\u001b[0m\u001b[37m\u001b[0m \u001b[1m2s\u001b[0m 10ms/step - accuracy: 0.9999 - loss: 0.0015 - val_accuracy: 1.0000 - val_loss: 2.7286e-04\n",
            "Epoch 16/100\n",
            "\u001b[1m117/117\u001b[0m \u001b[32m━━━━━━━━━━━━━━━━━━━━\u001b[0m\u001b[37m\u001b[0m \u001b[1m2s\u001b[0m 13ms/step - accuracy: 1.0000 - loss: 0.0013 - val_accuracy: 1.0000 - val_loss: 1.7671e-04\n",
            "Epoch 17/100\n",
            "\u001b[1m117/117\u001b[0m \u001b[32m━━━━━━━━━━━━━━━━━━━━\u001b[0m\u001b[37m\u001b[0m \u001b[1m1s\u001b[0m 9ms/step - accuracy: 1.0000 - loss: 9.4884e-04 - val_accuracy: 1.0000 - val_loss: 1.9744e-04\n",
            "Epoch 18/100\n",
            "\u001b[1m117/117\u001b[0m \u001b[32m━━━━━━━━━━━━━━━━━━━━\u001b[0m\u001b[37m\u001b[0m \u001b[1m2s\u001b[0m 11ms/step - accuracy: 1.0000 - loss: 0.0012 - val_accuracy: 1.0000 - val_loss: 1.8651e-04\n",
            "Epoch 19/100\n",
            "\u001b[1m117/117\u001b[0m \u001b[32m━━━━━━━━━━━━━━━━━━━━\u001b[0m\u001b[37m\u001b[0m \u001b[1m2s\u001b[0m 7ms/step - accuracy: 1.0000 - loss: 7.8996e-04 - val_accuracy: 1.0000 - val_loss: 2.4238e-04\n",
            "Epoch 20/100\n",
            "\u001b[1m117/117\u001b[0m \u001b[32m━━━━━━━━━━━━━━━━━━━━\u001b[0m\u001b[37m\u001b[0m \u001b[1m2s\u001b[0m 9ms/step - accuracy: 0.9993 - loss: 0.0015 - val_accuracy: 1.0000 - val_loss: 1.9988e-04\n",
            "Epoch 21/100\n",
            "\u001b[1m117/117\u001b[0m \u001b[32m━━━━━━━━━━━━━━━━━━━━\u001b[0m\u001b[37m\u001b[0m \u001b[1m2s\u001b[0m 13ms/step - accuracy: 1.0000 - loss: 8.7599e-04 - val_accuracy: 1.0000 - val_loss: 7.1208e-04\n",
            "Epoch 22/100\n",
            "\u001b[1m117/117\u001b[0m \u001b[32m━━━━━━━━━━━━━━━━━━━━\u001b[0m\u001b[37m\u001b[0m \u001b[1m1s\u001b[0m 12ms/step - accuracy: 1.0000 - loss: 5.6903e-04 - val_accuracy: 1.0000 - val_loss: 5.5609e-04\n",
            "Epoch 23/100\n",
            "\u001b[1m117/117\u001b[0m \u001b[32m━━━━━━━━━━━━━━━━━━━━\u001b[0m\u001b[37m\u001b[0m \u001b[1m2s\u001b[0m 13ms/step - accuracy: 1.0000 - loss: 4.9219e-04 - val_accuracy: 1.0000 - val_loss: 3.7921e-04\n",
            "Epoch 24/100\n",
            "\u001b[1m117/117\u001b[0m \u001b[32m━━━━━━━━━━━━━━━━━━━━\u001b[0m\u001b[37m\u001b[0m \u001b[1m2s\u001b[0m 7ms/step - accuracy: 1.0000 - loss: 5.4848e-04 - val_accuracy: 1.0000 - val_loss: 2.5203e-04\n",
            "Epoch 25/100\n",
            "\u001b[1m117/117\u001b[0m \u001b[32m━━━━━━━━━━━━━━━━━━━━\u001b[0m\u001b[37m\u001b[0m \u001b[1m2s\u001b[0m 18ms/step - accuracy: 1.0000 - loss: 4.2175e-04 - val_accuracy: 1.0000 - val_loss: 1.9567e-04\n",
            "Epoch 26/100\n",
            "\u001b[1m117/117\u001b[0m \u001b[32m━━━━━━━━━━━━━━━━━━━━\u001b[0m\u001b[37m\u001b[0m \u001b[1m5s\u001b[0m 41ms/step - accuracy: 1.0000 - loss: 4.0490e-04 - val_accuracy: 1.0000 - val_loss: 1.5703e-04\n",
            "Epoch 27/100\n",
            "\u001b[1m117/117\u001b[0m \u001b[32m━━━━━━━━━━━━━━━━━━━━\u001b[0m\u001b[37m\u001b[0m \u001b[1m1s\u001b[0m 8ms/step - accuracy: 1.0000 - loss: 3.2038e-04 - val_accuracy: 1.0000 - val_loss: 1.7931e-04\n",
            "Epoch 28/100\n",
            "\u001b[1m117/117\u001b[0m \u001b[32m━━━━━━━━━━━━━━━━━━━━\u001b[0m\u001b[37m\u001b[0m \u001b[1m1s\u001b[0m 6ms/step - accuracy: 1.0000 - loss: 4.2122e-04 - val_accuracy: 1.0000 - val_loss: 1.5916e-04\n",
            "Epoch 29/100\n",
            "\u001b[1m117/117\u001b[0m \u001b[32m━━━━━━━━━━━━━━━━━━━━\u001b[0m\u001b[37m\u001b[0m \u001b[1m1s\u001b[0m 7ms/step - accuracy: 1.0000 - loss: 3.6090e-04 - val_accuracy: 1.0000 - val_loss: 2.1462e-04\n",
            "Epoch 30/100\n",
            "\u001b[1m117/117\u001b[0m \u001b[32m━━━━━━━━━━━━━━━━━━━━\u001b[0m\u001b[37m\u001b[0m \u001b[1m2s\u001b[0m 9ms/step - accuracy: 1.0000 - loss: 2.5300e-04 - val_accuracy: 1.0000 - val_loss: 1.8755e-04\n",
            "Epoch 31/100\n",
            "\u001b[1m117/117\u001b[0m \u001b[32m━━━━━━━━━━━━━━━━━━━━\u001b[0m\u001b[37m\u001b[0m \u001b[1m2s\u001b[0m 10ms/step - accuracy: 1.0000 - loss: 2.4591e-04 - val_accuracy: 1.0000 - val_loss: 1.4930e-04\n",
            "Epoch 32/100\n",
            "\u001b[1m117/117\u001b[0m \u001b[32m━━━━━━━━━━━━━━━━━━━━\u001b[0m\u001b[37m\u001b[0m \u001b[1m1s\u001b[0m 8ms/step - accuracy: 1.0000 - loss: 2.6439e-04 - val_accuracy: 1.0000 - val_loss: 1.2478e-04\n",
            "Epoch 33/100\n",
            "\u001b[1m117/117\u001b[0m \u001b[32m━━━━━━━━━━━━━━━━━━━━\u001b[0m\u001b[37m\u001b[0m \u001b[1m1s\u001b[0m 12ms/step - accuracy: 1.0000 - loss: 3.1814e-04 - val_accuracy: 1.0000 - val_loss: 1.5267e-04\n",
            "Epoch 34/100\n",
            "\u001b[1m117/117\u001b[0m \u001b[32m━━━━━━━━━━━━━━━━━━━━\u001b[0m\u001b[37m\u001b[0m \u001b[1m3s\u001b[0m 17ms/step - accuracy: 1.0000 - loss: 2.1162e-04 - val_accuracy: 1.0000 - val_loss: 1.2172e-04\n",
            "Epoch 35/100\n",
            "\u001b[1m117/117\u001b[0m \u001b[32m━━━━━━━━━━━━━━━━━━━━\u001b[0m\u001b[37m\u001b[0m \u001b[1m2s\u001b[0m 16ms/step - accuracy: 1.0000 - loss: 1.4730e-04 - val_accuracy: 1.0000 - val_loss: 1.3263e-04\n",
            "Epoch 36/100\n",
            "\u001b[1m117/117\u001b[0m \u001b[32m━━━━━━━━━━━━━━━━━━━━\u001b[0m\u001b[37m\u001b[0m \u001b[1m2s\u001b[0m 18ms/step - accuracy: 1.0000 - loss: 2.2182e-04 - val_accuracy: 1.0000 - val_loss: 1.8543e-04\n",
            "Epoch 37/100\n",
            "\u001b[1m117/117\u001b[0m \u001b[32m━━━━━━━━━━━━━━━━━━━━\u001b[0m\u001b[37m\u001b[0m \u001b[1m1s\u001b[0m 9ms/step - accuracy: 1.0000 - loss: 2.9795e-04 - val_accuracy: 1.0000 - val_loss: 1.5405e-04\n",
            "Epoch 38/100\n",
            "\u001b[1m117/117\u001b[0m \u001b[32m━━━━━━━━━━━━━━━━━━━━\u001b[0m\u001b[37m\u001b[0m \u001b[1m1s\u001b[0m 11ms/step - accuracy: 1.0000 - loss: 1.4876e-04 - val_accuracy: 1.0000 - val_loss: 1.0711e-04\n",
            "Epoch 39/100\n",
            "\u001b[1m117/117\u001b[0m \u001b[32m━━━━━━━━━━━━━━━━━━━━\u001b[0m\u001b[37m\u001b[0m \u001b[1m2s\u001b[0m 8ms/step - accuracy: 1.0000 - loss: 2.2328e-04 - val_accuracy: 1.0000 - val_loss: 2.3846e-04\n",
            "Epoch 40/100\n",
            "\u001b[1m117/117\u001b[0m \u001b[32m━━━━━━━━━━━━━━━━━━━━\u001b[0m\u001b[37m\u001b[0m \u001b[1m1s\u001b[0m 7ms/step - accuracy: 1.0000 - loss: 1.0056e-04 - val_accuracy: 1.0000 - val_loss: 1.6172e-04\n",
            "Epoch 41/100\n",
            "\u001b[1m117/117\u001b[0m \u001b[32m━━━━━━━━━━━━━━━━━━━━\u001b[0m\u001b[37m\u001b[0m \u001b[1m1s\u001b[0m 9ms/step - accuracy: 1.0000 - loss: 1.3936e-04 - val_accuracy: 1.0000 - val_loss: 1.4727e-04\n",
            "Epoch 42/100\n",
            "\u001b[1m117/117\u001b[0m \u001b[32m━━━━━━━━━━━━━━━━━━━━\u001b[0m\u001b[37m\u001b[0m \u001b[1m1s\u001b[0m 7ms/step - accuracy: 1.0000 - loss: 1.0986e-04 - val_accuracy: 1.0000 - val_loss: 1.3262e-04\n",
            "Epoch 43/100\n",
            "\u001b[1m117/117\u001b[0m \u001b[32m━━━━━━━━━━━━━━━━━━━━\u001b[0m\u001b[37m\u001b[0m \u001b[1m1s\u001b[0m 7ms/step - accuracy: 1.0000 - loss: 1.0920e-04 - val_accuracy: 1.0000 - val_loss: 2.0109e-04\n",
            "Epoch 44/100\n",
            "\u001b[1m117/117\u001b[0m \u001b[32m━━━━━━━━━━━━━━━━━━━━\u001b[0m\u001b[37m\u001b[0m \u001b[1m1s\u001b[0m 8ms/step - accuracy: 1.0000 - loss: 1.4103e-04 - val_accuracy: 1.0000 - val_loss: 1.0952e-04\n",
            "Epoch 45/100\n",
            "\u001b[1m117/117\u001b[0m \u001b[32m━━━━━━━━━━━━━━━━━━━━\u001b[0m\u001b[37m\u001b[0m \u001b[1m1s\u001b[0m 11ms/step - accuracy: 1.0000 - loss: 1.5483e-04 - val_accuracy: 1.0000 - val_loss: 1.1482e-04\n",
            "Epoch 46/100\n",
            "\u001b[1m117/117\u001b[0m \u001b[32m━━━━━━━━━━━━━━━━━━━━\u001b[0m\u001b[37m\u001b[0m \u001b[1m1s\u001b[0m 7ms/step - accuracy: 1.0000 - loss: 1.1632e-04 - val_accuracy: 1.0000 - val_loss: 1.7207e-04\n",
            "Epoch 47/100\n",
            "\u001b[1m117/117\u001b[0m \u001b[32m━━━━━━━━━━━━━━━━━━━━\u001b[0m\u001b[37m\u001b[0m \u001b[1m1s\u001b[0m 7ms/step - accuracy: 1.0000 - loss: 7.0961e-05 - val_accuracy: 1.0000 - val_loss: 1.5247e-04\n",
            "Epoch 48/100\n",
            "\u001b[1m117/117\u001b[0m \u001b[32m━━━━━━━━━━━━━━━━━━━━\u001b[0m\u001b[37m\u001b[0m \u001b[1m1s\u001b[0m 8ms/step - accuracy: 1.0000 - loss: 7.5665e-05 - val_accuracy: 1.0000 - val_loss: 1.0351e-04\n",
            "Epoch 49/100\n",
            "\u001b[1m117/117\u001b[0m \u001b[32m━━━━━━━━━━━━━━━━━━━━\u001b[0m\u001b[37m\u001b[0m \u001b[1m2s\u001b[0m 12ms/step - accuracy: 1.0000 - loss: 1.6819e-04 - val_accuracy: 1.0000 - val_loss: 8.4712e-05\n",
            "Epoch 50/100\n",
            "\u001b[1m117/117\u001b[0m \u001b[32m━━━━━━━━━━━━━━━━━━━━\u001b[0m\u001b[37m\u001b[0m \u001b[1m2s\u001b[0m 9ms/step - accuracy: 1.0000 - loss: 3.8038e-04 - val_accuracy: 1.0000 - val_loss: 2.0176e-04\n",
            "Epoch 51/100\n",
            "\u001b[1m117/117\u001b[0m \u001b[32m━━━━━━━━━━━━━━━━━━━━\u001b[0m\u001b[37m\u001b[0m \u001b[1m2s\u001b[0m 12ms/step - accuracy: 1.0000 - loss: 9.1146e-05 - val_accuracy: 1.0000 - val_loss: 1.6060e-04\n",
            "Epoch 52/100\n",
            "\u001b[1m117/117\u001b[0m \u001b[32m━━━━━━━━━━━━━━━━━━━━\u001b[0m\u001b[37m\u001b[0m \u001b[1m2s\u001b[0m 7ms/step - accuracy: 1.0000 - loss: 8.7207e-05 - val_accuracy: 1.0000 - val_loss: 1.4993e-04\n",
            "Epoch 53/100\n",
            "\u001b[1m117/117\u001b[0m \u001b[32m━━━━━━━━━━━━━━━━━━━━\u001b[0m\u001b[37m\u001b[0m \u001b[1m2s\u001b[0m 16ms/step - accuracy: 1.0000 - loss: 9.2678e-05 - val_accuracy: 1.0000 - val_loss: 1.6031e-04\n",
            "Epoch 54/100\n",
            "\u001b[1m117/117\u001b[0m \u001b[32m━━━━━━━━━━━━━━━━━━━━\u001b[0m\u001b[37m\u001b[0m \u001b[1m2s\u001b[0m 13ms/step - accuracy: 1.0000 - loss: 7.8464e-05 - val_accuracy: 1.0000 - val_loss: 1.1107e-04\n",
            "Epoch 55/100\n",
            "\u001b[1m117/117\u001b[0m \u001b[32m━━━━━━━━━━━━━━━━━━━━\u001b[0m\u001b[37m\u001b[0m \u001b[1m1s\u001b[0m 8ms/step - accuracy: 1.0000 - loss: 7.1140e-05 - val_accuracy: 1.0000 - val_loss: 1.4133e-04\n",
            "Epoch 56/100\n",
            "\u001b[1m117/117\u001b[0m \u001b[32m━━━━━━━━━━━━━━━━━━━━\u001b[0m\u001b[37m\u001b[0m \u001b[1m1s\u001b[0m 6ms/step - accuracy: 1.0000 - loss: 4.6955e-05 - val_accuracy: 1.0000 - val_loss: 1.9466e-04\n",
            "Epoch 57/100\n",
            "\u001b[1m117/117\u001b[0m \u001b[32m━━━━━━━━━━━━━━━━━━━━\u001b[0m\u001b[37m\u001b[0m \u001b[1m1s\u001b[0m 7ms/step - accuracy: 1.0000 - loss: 1.2440e-04 - val_accuracy: 1.0000 - val_loss: 1.4295e-04\n",
            "Epoch 58/100\n",
            "\u001b[1m117/117\u001b[0m \u001b[32m━━━━━━━━━━━━━━━━━━━━\u001b[0m\u001b[37m\u001b[0m \u001b[1m1s\u001b[0m 8ms/step - accuracy: 1.0000 - loss: 6.5044e-05 - val_accuracy: 1.0000 - val_loss: 1.3721e-04\n",
            "Epoch 59/100\n",
            "\u001b[1m117/117\u001b[0m \u001b[32m━━━━━━━━━━━━━━━━━━━━\u001b[0m\u001b[37m\u001b[0m \u001b[1m1s\u001b[0m 8ms/step - accuracy: 1.0000 - loss: 4.3028e-05 - val_accuracy: 1.0000 - val_loss: 1.9248e-04\n",
            "Epoch 60/100\n",
            "\u001b[1m117/117\u001b[0m \u001b[32m━━━━━━━━━━━━━━━━━━━━\u001b[0m\u001b[37m\u001b[0m \u001b[1m1s\u001b[0m 7ms/step - accuracy: 1.0000 - loss: 2.4966e-05 - val_accuracy: 1.0000 - val_loss: 1.6686e-04\n",
            "Epoch 61/100\n",
            "\u001b[1m117/117\u001b[0m \u001b[32m━━━━━━━━━━━━━━━━━━━━\u001b[0m\u001b[37m\u001b[0m \u001b[1m2s\u001b[0m 14ms/step - accuracy: 1.0000 - loss: 2.8793e-05 - val_accuracy: 1.0000 - val_loss: 1.7655e-04\n",
            "Epoch 62/100\n",
            "\u001b[1m117/117\u001b[0m \u001b[32m━━━━━━━━━━━━━━━━━━━━\u001b[0m\u001b[37m\u001b[0m \u001b[1m1s\u001b[0m 11ms/step - accuracy: 1.0000 - loss: 2.8338e-05 - val_accuracy: 1.0000 - val_loss: 9.0540e-05\n",
            "Epoch 63/100\n",
            "\u001b[1m117/117\u001b[0m \u001b[32m━━━━━━━━━━━━━━━━━━━━\u001b[0m\u001b[37m\u001b[0m \u001b[1m2s\u001b[0m 7ms/step - accuracy: 1.0000 - loss: 8.6402e-05 - val_accuracy: 1.0000 - val_loss: 1.2844e-04\n",
            "Epoch 64/100\n",
            "\u001b[1m117/117\u001b[0m \u001b[32m━━━━━━━━━━━━━━━━━━━━\u001b[0m\u001b[37m\u001b[0m \u001b[1m1s\u001b[0m 7ms/step - accuracy: 1.0000 - loss: 3.7614e-05 - val_accuracy: 1.0000 - val_loss: 2.2193e-04\n",
            "Epoch 65/100\n",
            "\u001b[1m117/117\u001b[0m \u001b[32m━━━━━━━━━━━━━━━━━━━━\u001b[0m\u001b[37m\u001b[0m \u001b[1m1s\u001b[0m 10ms/step - accuracy: 1.0000 - loss: 1.6911e-05 - val_accuracy: 1.0000 - val_loss: 2.2418e-04\n",
            "Epoch 66/100\n",
            "\u001b[1m117/117\u001b[0m \u001b[32m━━━━━━━━━━━━━━━━━━━━\u001b[0m\u001b[37m\u001b[0m \u001b[1m1s\u001b[0m 7ms/step - accuracy: 1.0000 - loss: 4.1008e-05 - val_accuracy: 1.0000 - val_loss: 2.4117e-04\n",
            "Epoch 67/100\n",
            "\u001b[1m117/117\u001b[0m \u001b[32m━━━━━━━━━━━━━━━━━━━━\u001b[0m\u001b[37m\u001b[0m \u001b[1m1s\u001b[0m 8ms/step - accuracy: 1.0000 - loss: 3.2389e-05 - val_accuracy: 1.0000 - val_loss: 1.2496e-04\n",
            "Epoch 68/100\n",
            "\u001b[1m117/117\u001b[0m \u001b[32m━━━━━━━━━━━━━━━━━━━━\u001b[0m\u001b[37m\u001b[0m \u001b[1m1s\u001b[0m 8ms/step - accuracy: 1.0000 - loss: 1.5702e-05 - val_accuracy: 1.0000 - val_loss: 1.4814e-04\n",
            "Epoch 69/100\n",
            "\u001b[1m117/117\u001b[0m \u001b[32m━━━━━━━━━━━━━━━━━━━━\u001b[0m\u001b[37m\u001b[0m \u001b[1m1s\u001b[0m 7ms/step - accuracy: 1.0000 - loss: 1.2576e-05 - val_accuracy: 1.0000 - val_loss: 1.8567e-04\n",
            "Epoch 70/100\n",
            "\u001b[1m117/117\u001b[0m \u001b[32m━━━━━━━━━━━━━━━━━━━━\u001b[0m\u001b[37m\u001b[0m \u001b[1m1s\u001b[0m 11ms/step - accuracy: 1.0000 - loss: 6.0275e-05 - val_accuracy: 1.0000 - val_loss: 1.6036e-04\n",
            "Epoch 71/100\n",
            "\u001b[1m117/117\u001b[0m \u001b[32m━━━━━━━━━━━━━━━━━━━━\u001b[0m\u001b[37m\u001b[0m \u001b[1m2s\u001b[0m 12ms/step - accuracy: 1.0000 - loss: 3.0453e-05 - val_accuracy: 1.0000 - val_loss: 2.2009e-04\n",
            "Epoch 72/100\n",
            "\u001b[1m117/117\u001b[0m \u001b[32m━━━━━━━━━━━━━━━━━━━━\u001b[0m\u001b[37m\u001b[0m \u001b[1m1s\u001b[0m 7ms/step - accuracy: 0.9998 - loss: 6.6832e-04 - val_accuracy: 1.0000 - val_loss: 1.6862e-04\n",
            "Epoch 73/100\n",
            "\u001b[1m117/117\u001b[0m \u001b[32m━━━━━━━━━━━━━━━━━━━━\u001b[0m\u001b[37m\u001b[0m \u001b[1m1s\u001b[0m 8ms/step - accuracy: 1.0000 - loss: 1.2723e-04 - val_accuracy: 1.0000 - val_loss: 1.0594e-04\n",
            "Epoch 74/100\n",
            "\u001b[1m117/117\u001b[0m \u001b[32m━━━━━━━━━━━━━━━━━━━━\u001b[0m\u001b[37m\u001b[0m \u001b[1m1s\u001b[0m 8ms/step - accuracy: 1.0000 - loss: 3.4505e-05 - val_accuracy: 1.0000 - val_loss: 1.4355e-04\n",
            "Epoch 75/100\n",
            "\u001b[1m117/117\u001b[0m \u001b[32m━━━━━━━━━━━━━━━━━━━━\u001b[0m\u001b[37m\u001b[0m \u001b[1m2s\u001b[0m 12ms/step - accuracy: 1.0000 - loss: 2.4692e-05 - val_accuracy: 1.0000 - val_loss: 2.5599e-04\n",
            "Epoch 76/100\n",
            "\u001b[1m117/117\u001b[0m \u001b[32m━━━━━━━━━━━━━━━━━━━━\u001b[0m\u001b[37m\u001b[0m \u001b[1m1s\u001b[0m 8ms/step - accuracy: 1.0000 - loss: 1.7754e-05 - val_accuracy: 1.0000 - val_loss: 1.1467e-04\n",
            "Epoch 77/100\n",
            "\u001b[1m117/117\u001b[0m \u001b[32m━━━━━━━━━━━━━━━━━━━━\u001b[0m\u001b[37m\u001b[0m \u001b[1m1s\u001b[0m 7ms/step - accuracy: 1.0000 - loss: 4.5461e-05 - val_accuracy: 1.0000 - val_loss: 1.4426e-04\n",
            "Epoch 78/100\n",
            "\u001b[1m117/117\u001b[0m \u001b[32m━━━━━━━━━━━━━━━━━━━━\u001b[0m\u001b[37m\u001b[0m \u001b[1m2s\u001b[0m 10ms/step - accuracy: 1.0000 - loss: 2.0633e-05 - val_accuracy: 1.0000 - val_loss: 6.8433e-05\n",
            "Epoch 79/100\n",
            "\u001b[1m117/117\u001b[0m \u001b[32m━━━━━━━━━━━━━━━━━━━━\u001b[0m\u001b[37m\u001b[0m \u001b[1m1s\u001b[0m 9ms/step - accuracy: 1.0000 - loss: 2.4342e-05 - val_accuracy: 1.0000 - val_loss: 1.3023e-04\n",
            "Epoch 80/100\n",
            "\u001b[1m117/117\u001b[0m \u001b[32m━━━━━━━━━━━━━━━━━━━━\u001b[0m\u001b[37m\u001b[0m \u001b[1m1s\u001b[0m 7ms/step - accuracy: 1.0000 - loss: 2.8430e-05 - val_accuracy: 1.0000 - val_loss: 6.7261e-05\n",
            "Epoch 81/100\n",
            "\u001b[1m117/117\u001b[0m \u001b[32m━━━━━━━━━━━━━━━━━━━━\u001b[0m\u001b[37m\u001b[0m \u001b[1m1s\u001b[0m 7ms/step - accuracy: 1.0000 - loss: 1.1883e-05 - val_accuracy: 1.0000 - val_loss: 1.4329e-04\n",
            "Epoch 82/100\n",
            "\u001b[1m117/117\u001b[0m \u001b[32m━━━━━━━━━━━━━━━━━━━━\u001b[0m\u001b[37m\u001b[0m \u001b[1m2s\u001b[0m 13ms/step - accuracy: 1.0000 - loss: 1.9648e-05 - val_accuracy: 1.0000 - val_loss: 2.2650e-04\n",
            "Epoch 83/100\n",
            "\u001b[1m117/117\u001b[0m \u001b[32m━━━━━━━━━━━━━━━━━━━━\u001b[0m\u001b[37m\u001b[0m \u001b[1m2s\u001b[0m 7ms/step - accuracy: 1.0000 - loss: 2.3252e-05 - val_accuracy: 1.0000 - val_loss: 3.4126e-04\n",
            "Epoch 84/100\n",
            "\u001b[1m117/117\u001b[0m \u001b[32m━━━━━━━━━━━━━━━━━━━━\u001b[0m\u001b[37m\u001b[0m \u001b[1m1s\u001b[0m 7ms/step - accuracy: 1.0000 - loss: 1.6521e-05 - val_accuracy: 0.9992 - val_loss: 6.1549e-04\n",
            "Epoch 85/100\n",
            "\u001b[1m117/117\u001b[0m \u001b[32m━━━━━━━━━━━━━━━━━━━━\u001b[0m\u001b[37m\u001b[0m \u001b[1m1s\u001b[0m 8ms/step - accuracy: 1.0000 - loss: 1.4282e-05 - val_accuracy: 0.9992 - val_loss: 0.0024\n",
            "Epoch 86/100\n",
            "\u001b[1m117/117\u001b[0m \u001b[32m━━━━━━━━━━━━━━━━━━━━\u001b[0m\u001b[37m\u001b[0m \u001b[1m1s\u001b[0m 7ms/step - accuracy: 1.0000 - loss: 9.0026e-06 - val_accuracy: 1.0000 - val_loss: 6.9732e-04\n",
            "Epoch 87/100\n",
            "\u001b[1m117/117\u001b[0m \u001b[32m━━━━━━━━━━━━━━━━━━━━\u001b[0m\u001b[37m\u001b[0m \u001b[1m1s\u001b[0m 9ms/step - accuracy: 1.0000 - loss: 1.4576e-05 - val_accuracy: 1.0000 - val_loss: 5.5797e-04\n",
            "Epoch 88/100\n",
            "\u001b[1m117/117\u001b[0m \u001b[32m━━━━━━━━━━━━━━━━━━━━\u001b[0m\u001b[37m\u001b[0m \u001b[1m1s\u001b[0m 7ms/step - accuracy: 1.0000 - loss: 7.4523e-05 - val_accuracy: 0.9992 - val_loss: 9.2813e-04\n",
            "Epoch 89/100\n",
            "\u001b[1m117/117\u001b[0m \u001b[32m━━━━━━━━━━━━━━━━━━━━\u001b[0m\u001b[37m\u001b[0m \u001b[1m1s\u001b[0m 7ms/step - accuracy: 1.0000 - loss: 5.0545e-05 - val_accuracy: 1.0000 - val_loss: 5.8582e-04\n",
            "Epoch 90/100\n",
            "\u001b[1m117/117\u001b[0m \u001b[32m━━━━━━━━━━━━━━━━━━━━\u001b[0m\u001b[37m\u001b[0m \u001b[1m1s\u001b[0m 7ms/step - accuracy: 1.0000 - loss: 8.1196e-06 - val_accuracy: 0.9992 - val_loss: 8.5958e-04\n",
            "Epoch 91/100\n",
            "\u001b[1m117/117\u001b[0m \u001b[32m━━━━━━━━━━━━━━━━━━━━\u001b[0m\u001b[37m\u001b[0m \u001b[1m1s\u001b[0m 8ms/step - accuracy: 1.0000 - loss: 1.0277e-05 - val_accuracy: 0.9992 - val_loss: 9.7323e-04\n",
            "Epoch 92/100\n",
            "\u001b[1m117/117\u001b[0m \u001b[32m━━━━━━━━━━━━━━━━━━━━\u001b[0m\u001b[37m\u001b[0m \u001b[1m1s\u001b[0m 8ms/step - accuracy: 1.0000 - loss: 1.7472e-05 - val_accuracy: 0.9992 - val_loss: 0.0040\n",
            "Epoch 93/100\n",
            "\u001b[1m117/117\u001b[0m \u001b[32m━━━━━━━━━━━━━━━━━━━━\u001b[0m\u001b[37m\u001b[0m \u001b[1m1s\u001b[0m 7ms/step - accuracy: 1.0000 - loss: 1.6792e-05 - val_accuracy: 0.9992 - val_loss: 0.0035\n",
            "Epoch 94/100\n",
            "\u001b[1m117/117\u001b[0m \u001b[32m━━━━━━━━━━━━━━━━━━━━\u001b[0m\u001b[37m\u001b[0m \u001b[1m2s\u001b[0m 9ms/step - accuracy: 1.0000 - loss: 1.3259e-05 - val_accuracy: 0.9992 - val_loss: 0.0033\n",
            "Epoch 95/100\n",
            "\u001b[1m117/117\u001b[0m \u001b[32m━━━━━━━━━━━━━━━━━━━━\u001b[0m\u001b[37m\u001b[0m \u001b[1m1s\u001b[0m 7ms/step - accuracy: 1.0000 - loss: 1.9215e-05 - val_accuracy: 0.9992 - val_loss: 0.0023\n",
            "Epoch 96/100\n",
            "\u001b[1m117/117\u001b[0m \u001b[32m━━━━━━━━━━━━━━━━━━━━\u001b[0m\u001b[37m\u001b[0m \u001b[1m1s\u001b[0m 8ms/step - accuracy: 1.0000 - loss: 8.8308e-06 - val_accuracy: 0.9992 - val_loss: 0.0024\n",
            "Epoch 97/100\n",
            "\u001b[1m117/117\u001b[0m \u001b[32m━━━━━━━━━━━━━━━━━━━━\u001b[0m\u001b[37m\u001b[0m \u001b[1m1s\u001b[0m 8ms/step - accuracy: 1.0000 - loss: 1.7231e-05 - val_accuracy: 0.9992 - val_loss: 0.0011\n",
            "Epoch 98/100\n",
            "\u001b[1m117/117\u001b[0m \u001b[32m━━━━━━━━━━━━━━━━━━━━\u001b[0m\u001b[37m\u001b[0m \u001b[1m1s\u001b[0m 7ms/step - accuracy: 1.0000 - loss: 5.6088e-06 - val_accuracy: 0.9992 - val_loss: 7.3534e-04\n",
            "Epoch 99/100\n",
            "\u001b[1m117/117\u001b[0m \u001b[32m━━━━━━━━━━━━━━━━━━━━\u001b[0m\u001b[37m\u001b[0m \u001b[1m1s\u001b[0m 7ms/step - accuracy: 1.0000 - loss: 7.0276e-06 - val_accuracy: 0.9992 - val_loss: 8.2923e-04\n",
            "Epoch 100/100\n",
            "\u001b[1m117/117\u001b[0m \u001b[32m━━━━━━━━━━━━━━━━━━━━\u001b[0m\u001b[37m\u001b[0m \u001b[1m1s\u001b[0m 7ms/step - accuracy: 1.0000 - loss: 1.7481e-05 - val_accuracy: 0.9992 - val_loss: 7.2628e-04\n"
          ]
        },
        {
          "name": "stderr",
          "output_type": "stream",
          "text": [
            "WARNING:absl:You are saving your model as an HDF5 file via `model.save()` or `keras.saving.save_model(model)`. This file format is considered legacy. We recommend using instead the native Keras format, e.g. `model.save('my_model.keras')` or `keras.saving.save_model(model, 'my_model.keras')`. \n"
          ]
        }
      ],
      "source": [
        "if __name__ == '__main__':\n",
        "  model = baseline_model()\n",
        "  model.save(\"model.h5\")"
      ]
    },
    {
      "cell_type": "code",
      "execution_count": 25,
      "metadata": {
        "colab": {
          "background_save": true
        },
        "id": "CbUcm0ylIGRy"
      },
      "outputs": [
        {
          "data": {
            "text/plain": [
              "['(vertigo) Paroymsal  Positional Vertigo',\n",
              " 'AIDS',\n",
              " 'Acne',\n",
              " 'Alcoholic hepatitis',\n",
              " 'Allergy',\n",
              " 'Arthritis',\n",
              " 'Bronchial Asthma',\n",
              " 'Cervical spondylosis',\n",
              " 'Chicken pox',\n",
              " 'Chronic cholestasis',\n",
              " 'Common Cold',\n",
              " 'Dengue',\n",
              " 'Diabetes',\n",
              " 'Dimorphic hemmorhoids(piles)',\n",
              " 'Drug Reaction',\n",
              " 'Fungal infection',\n",
              " 'GERD',\n",
              " 'Gastroenteritis',\n",
              " 'Heart attack',\n",
              " 'Hepatitis B',\n",
              " 'Hepatitis C',\n",
              " 'Hepatitis D',\n",
              " 'Hepatitis E',\n",
              " 'Hypertension',\n",
              " 'Hyperthyroidism',\n",
              " 'Hypoglycemia',\n",
              " 'Hypothyroidism',\n",
              " 'Impetigo',\n",
              " 'Jaundice',\n",
              " 'Malaria',\n",
              " 'Migraine',\n",
              " 'Osteoarthristis',\n",
              " 'Paralysis (brain hemorrhage)',\n",
              " 'Peptic ulcer diseae',\n",
              " 'Pneumonia',\n",
              " 'Psoriasis',\n",
              " 'Tuberculosis',\n",
              " 'Typhoid',\n",
              " 'Urinary tract infection',\n",
              " 'Varicose veins',\n",
              " 'hepatitis A']"
            ]
          },
          "execution_count": 25,
          "metadata": {},
          "output_type": "execute_result"
        }
      ],
      "source": [
        "disease_names = label_encoder.classes_\n",
        "list(disease_names)"
      ]
    },
    {
      "cell_type": "code",
      "execution_count": 28,
      "metadata": {
        "colab": {
          "background_save": true
        },
        "id": "lsyCltA8Hcfz"
      },
      "outputs": [],
      "source": [
        "#Input the symptoms of fungal infection\n",
        "sample_input = np.array([\n",
        "1,1,1,0,0,0,0,0,0,0,0,0,0,0,0,0,0,0,0,0,0,0,0,0,0,0,0,0,0,0,0,0,0,0,0,0,0,0,0,0,0,0,0,0,0,0,0,0,0,0,0,0,0,0,0,0,0,0,0,0,0,0,0,0,0,0,0,0,0,0,0,0,0,0,0,0,0,0,0,0,0,0,0,0,0,0,0,0,0,0,0,0,0,0,0,0,0,0,0,0,0,0,1,0,0,0,0,0,0,0,0,0,0,0,0,0,0,0,0,0,0,0,0,0,0,0,0,0,0,0,0,0])\n",
        "sample_input = sample_input.reshape(1, -1)"
      ]
    },
    {
      "cell_type": "code",
      "execution_count": 29,
      "metadata": {
        "colab": {
          "background_save": true
        },
        "id": "EleQHIi0Higw"
      },
      "outputs": [
        {
          "name": "stdout",
          "output_type": "stream",
          "text": [
            "\u001b[1m1/1\u001b[0m \u001b[32m━━━━━━━━━━━━━━━━━━━━\u001b[0m\u001b[37m\u001b[0m \u001b[1m0s\u001b[0m 57ms/step\n"
          ]
        }
      ],
      "source": [
        "predictions = model.predict(sample_input)"
      ]
    },
    {
      "cell_type": "code",
      "execution_count": 30,
      "metadata": {
        "colab": {
          "background_save": true
        },
        "id": "V8UCf0aZK04Q"
      },
      "outputs": [
        {
          "data": {
            "text/plain": [
              "array([[3.16661679e-16, 4.47921566e-13, 2.60626264e-13, 1.98558604e-13,\n",
              "        1.58146594e-13, 2.23688505e-15, 1.07743804e-13, 4.97755862e-13,\n",
              "        1.73170137e-12, 5.57302236e-15, 6.04628599e-19, 1.16487560e-12,\n",
              "        1.21242710e-13, 3.89215536e-15, 6.82842116e-14, 1.00000000e+00,\n",
              "        1.55989759e-19, 1.30227045e-18, 8.53715111e-17, 3.82877757e-13,\n",
              "        2.01794622e-14, 5.82819625e-21, 4.84208494e-18, 7.01584765e-19,\n",
              "        1.33638001e-12, 1.61115099e-13, 5.54241386e-13, 2.30868753e-12,\n",
              "        1.56084875e-13, 2.08833954e-13, 2.38615322e-15, 1.99188946e-14,\n",
              "        2.49098721e-20, 7.51260711e-15, 1.31692024e-14, 1.84632821e-12,\n",
              "        2.40335854e-19, 1.38622007e-14, 4.54131897e-16, 2.36180166e-15,\n",
              "        5.75450036e-20, 1.72248094e-16]], dtype=float32)"
            ]
          },
          "execution_count": 30,
          "metadata": {},
          "output_type": "execute_result"
        }
      ],
      "source": [
        "predictions"
      ]
    },
    {
      "cell_type": "code",
      "execution_count": 31,
      "metadata": {
        "colab": {
          "background_save": true
        },
        "id": "5dJDEqAIHmJr"
      },
      "outputs": [
        {
          "data": {
            "text/plain": [
              "array([15], dtype=int64)"
            ]
          },
          "execution_count": 31,
          "metadata": {},
          "output_type": "execute_result"
        }
      ],
      "source": [
        "# Map the predicted label to the disease name\n",
        "predicted_label_index = np.argmax(predictions, axis=1)\n",
        "predicted_label_index"
      ]
    },
    {
      "cell_type": "code",
      "execution_count": 32,
      "metadata": {
        "colab": {
          "background_save": true
        },
        "id": "1Q1xXZrZLRnm"
      },
      "outputs": [
        {
          "data": {
            "text/plain": [
              "array(['Fungal infection'], dtype=object)"
            ]
          },
          "execution_count": 32,
          "metadata": {},
          "output_type": "execute_result"
        }
      ],
      "source": [
        "predicted_disease_name = disease_names[predicted_label_index]\n",
        "predicted_disease_name"
      ]
    },
    {
      "cell_type": "code",
      "execution_count": 33,
      "metadata": {
        "colab": {
          "background_save": true
        },
        "id": "fYlOc6hcNGns"
      },
      "outputs": [],
      "source": [
        "#Input the symptoms of allergy\n",
        "sample_input = np.array([\n",
        "0,0,0,1,1,1,0,0,0,0,0,0,0,0,0,0,0,0,0,0,0,0,0,0,0,0,0,0,0,0,0,0,0,0,0,0,0,0,0,0,0,0,0,0,0,0,0,0,0,0,0,0,0,0,0,0,0,0,0,0,0,0,0,0,0,0,0,0,0,0,0,0,0,0,0,0,0,0,0,0,0,0,0,0,0,0,0,0,0,0,0,0,0,0,0,0,0,0,0,0,0,0,0,1,0,0,0,0,0,0,0,0,0,0,0,0,0,0,0,0,0,0,0,0,0,0,0,0,0,0,0,0\n",
        "])\n",
        "sample_input = sample_input.reshape(1, -1)"
      ]
    },
    {
      "cell_type": "code",
      "execution_count": 34,
      "metadata": {
        "colab": {
          "background_save": true
        },
        "id": "RievyciTPs8J"
      },
      "outputs": [],
      "source": [
        "input = np.array(X_train.iloc[11,:])\n",
        "input = input.reshape(1,-1)"
      ]
    },
    {
      "cell_type": "code",
      "execution_count": 36,
      "metadata": {
        "colab": {
          "background_save": true
        },
        "id": "jbju6JBxQMzU"
      },
      "outputs": [
        {
          "name": "stdout",
          "output_type": "stream",
          "text": [
            "\u001b[1m1/1\u001b[0m \u001b[32m━━━━━━━━━━━━━━━━━━━━\u001b[0m\u001b[37m\u001b[0m \u001b[1m0s\u001b[0m 183ms/step\n"
          ]
        },
        {
          "data": {
            "text/plain": [
              "array([[6.2397581e-13, 8.5620948e-11, 8.2435128e-11, 3.2242936e-18,\n",
              "        1.0000000e+00, 2.6843135e-11, 4.9580869e-13, 4.7525994e-10,\n",
              "        6.2129518e-10, 7.1802183e-13, 1.3164294e-12, 2.6699519e-13,\n",
              "        6.2351898e-13, 1.3324761e-11, 2.0655582e-12, 8.6823132e-10,\n",
              "        3.2909602e-11, 1.2888281e-10, 6.2236606e-14, 2.2512957e-12,\n",
              "        2.2841854e-12, 2.1337966e-14, 6.6986923e-16, 2.6290485e-14,\n",
              "        3.8225920e-12, 3.2279935e-13, 5.4504592e-11, 1.4986377e-11,\n",
              "        3.1131836e-17, 1.0264425e-10, 9.8498575e-14, 8.1673539e-12,\n",
              "        1.5069529e-11, 5.4097251e-11, 5.9517648e-11, 5.9339651e-12,\n",
              "        3.2181422e-15, 2.2002503e-10, 1.1120845e-10, 1.5630310e-11,\n",
              "        5.9697665e-17, 1.7449895e-13]], dtype=float32)"
            ]
          },
          "execution_count": 36,
          "metadata": {},
          "output_type": "execute_result"
        }
      ],
      "source": [
        "predictions = model.predict(input)\n",
        "predictions"
      ]
    },
    {
      "cell_type": "code",
      "execution_count": 37,
      "metadata": {
        "colab": {
          "background_save": true
        },
        "id": "FIS728caQYnT"
      },
      "outputs": [
        {
          "data": {
            "text/plain": [
              "array([4], dtype=int64)"
            ]
          },
          "execution_count": 37,
          "metadata": {},
          "output_type": "execute_result"
        }
      ],
      "source": [
        "predicted_label_index = np.argmax(predictions, axis=1)\n",
        "predicted_label_index"
      ]
    },
    {
      "cell_type": "code",
      "execution_count": 38,
      "metadata": {
        "colab": {
          "background_save": true
        },
        "id": "oaVGC1w6QY-K"
      },
      "outputs": [
        {
          "data": {
            "text/plain": [
              "array(['Allergy'], dtype=object)"
            ]
          },
          "execution_count": 38,
          "metadata": {},
          "output_type": "execute_result"
        }
      ],
      "source": [
        "predicted_disease_name = disease_names[predicted_label_index]\n",
        "predicted_disease_name"
      ]
    }
  ],
  "metadata": {
    "colab": {
      "provenance": []
    },
    "kernelspec": {
      "display_name": "Python 3",
      "name": "python3"
    },
    "language_info": {
      "codemirror_mode": {
        "name": "ipython",
        "version": 3
      },
      "file_extension": ".py",
      "mimetype": "text/x-python",
      "name": "python",
      "nbconvert_exporter": "python",
      "pygments_lexer": "ipython3",
      "version": "3.9.13"
    }
  },
  "nbformat": 4,
  "nbformat_minor": 0
}
